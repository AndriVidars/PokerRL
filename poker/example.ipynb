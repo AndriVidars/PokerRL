{
 "cells": [
  {
   "cell_type": "code",
   "execution_count": 1,
   "metadata": {},
   "outputs": [],
   "source": [
    "import os\n",
    "import sys\n",
    "from typing import List, Dict, Tuple, Optional, Any\n",
    "\n",
    "# Add project root to path if needed\n",
    "sys.path.append(os.path.dirname(os.path.abspath(os.getcwd())))\n",
    "\n",
    "from poker.agents.game_state import GameStateRetriever\n",
    "from poker.core.gamestage import Stage\n",
    "from poker.core.action import Action\n",
    "\n",
    "\n"
   ]
  },
  {
   "cell_type": "code",
   "execution_count": 2,
   "metadata": {},
   "outputs": [
    {
     "name": "stdout",
     "output_type": "stream",
     "text": [
      "Loaded files: 92\n"
     ]
    }
   ],
   "source": [
    "log_dir = os.path.join(os.path.dirname(os.path.abspath(os.getcwd())), \"pluribus\")\n",
    "retriever = GameStateRetriever(log_dir)\n",
    "    \n"
   ]
  },
  {
   "cell_type": "code",
   "execution_count": 3,
   "metadata": {},
   "outputs": [
    {
     "name": "stdout",
     "output_type": "stream",
     "text": [
      "\n",
      "Getting all game states for Pluribus...\n",
      "Found 13876 game states for Pluribus\n"
     ]
    }
   ],
   "source": [
    "player_name = \"Pluribus\"  # You can change this to any player in the dataset\n",
    "print(f\"\\nGetting all game states for {player_name}...\")\n",
    "game_states = retriever.get_player_game_states(player_name)\n",
    "print(f\"Found {len(game_states)} game states for {player_name}\")"
   ]
  },
  {
   "cell_type": "code",
   "execution_count": 4,
   "metadata": {},
   "outputs": [
    {
     "data": {
      "text/plain": [
       "['__class__',\n",
       " '__delattr__',\n",
       " '__dict__',\n",
       " '__dir__',\n",
       " '__doc__',\n",
       " '__eq__',\n",
       " '__format__',\n",
       " '__ge__',\n",
       " '__getattribute__',\n",
       " '__getstate__',\n",
       " '__gt__',\n",
       " '__hash__',\n",
       " '__init__',\n",
       " '__init_subclass__',\n",
       " '__le__',\n",
       " '__lt__',\n",
       " '__module__',\n",
       " '__ne__',\n",
       " '__new__',\n",
       " '__reduce__',\n",
       " '__reduce_ex__',\n",
       " '__repr__',\n",
       " '__setattr__',\n",
       " '__sizeof__',\n",
       " '__str__',\n",
       " '__subclasshook__',\n",
       " '__weakref__',\n",
       " '_apply_my_player_visibility',\n",
       " '_apply_other_players_visibility',\n",
       " '_original_my_player',\n",
       " '_original_other_players',\n",
       " 'community_cards',\n",
       " 'compute_hand_strength',\n",
       " 'core_game',\n",
       " 'get_community_hand_strength',\n",
       " 'get_effective_turns',\n",
       " 'get_hand_strength',\n",
       " 'min_bet_to_continue',\n",
       " 'my_player',\n",
       " 'my_player_action',\n",
       " 'other_players',\n",
       " 'pot_size',\n",
       " 'stage']"
      ]
     },
     "execution_count": 4,
     "metadata": {},
     "output_type": "execute_result"
    }
   ],
   "source": [
    "dir(game_states[0])"
   ]
  },
  {
   "cell_type": "code",
   "execution_count": 4,
   "metadata": {},
   "outputs": [
    {
     "data": {
      "text/plain": [
       "(<Stage.PREFLOP: 0>, 150, 10000, 0)"
      ]
     },
     "execution_count": 4,
     "metadata": {},
     "output_type": "execute_result"
    }
   ],
   "source": [
    "game_states[-1].stage, game_states[-1].pot_size, game_states[-1].my_player.stack_size, game_states[-1].min_bet_to_continue "
   ]
  },
  {
   "cell_type": "code",
   "execution_count": 5,
   "metadata": {},
   "outputs": [
    {
     "data": {
      "text/plain": [
       "2"
      ]
     },
     "execution_count": 5,
     "metadata": {},
     "output_type": "execute_result"
    }
   ],
   "source": [
    "game_states[0].my_player.spots_left_bb"
   ]
  },
  {
   "cell_type": "code",
   "execution_count": 6,
   "metadata": {},
   "outputs": [
    {
     "data": {
      "text/plain": [
       "(150, 10000)"
      ]
     },
     "execution_count": 6,
     "metadata": {},
     "output_type": "execute_result"
    }
   ],
   "source": [
    "game_states[0].pot_size, game_states[0].my_player.stack_size"
   ]
  },
  {
   "cell_type": "code",
   "execution_count": 7,
   "metadata": {},
   "outputs": [
    {
     "data": {
      "text/plain": [
       "(<Stage.PREFLOP: 0>, [], [], [])"
      ]
     },
     "execution_count": 7,
     "metadata": {},
     "output_type": "execute_result"
    }
   ],
   "source": [
    "game_states[0].stage, game_states[0].my_player.history, game_states[0].other_players[0].history, game_states[0].other_players[1].history"
   ]
  },
  {
   "cell_type": "code",
   "execution_count": null,
   "metadata": {},
   "outputs": [],
   "source": []
  },
  {
   "cell_type": "code",
   "execution_count": 5,
   "metadata": {},
   "outputs": [],
   "source": [
    "with open(\"game_states_output.txt\", \"w\") as file:\n",
    "    for i, game_state in enumerate(game_states):\n",
    "        file.write(f\"Game State {i+1}:\\n\")\n",
    "        file.write(f\"stage: {game_state.stage}\\n\")\n",
    "        file.write(\"My Player:\\n\")\n",
    "        file.write(f\"  Actions History: {game_state.my_player.history}\\n\")\n",
    "        file.write(f\"  Current Action: {game_state.my_player_action}\\n\")\n",
    "        file.write(f\"  Spots left of big blind: {game_state.my_player.spots_left_bb}\\n\")\n",
    "        file.write(f\"  Stack size: {game_state.my_player.stack_size}\\n\")\n",
    "        file.write(f\"  Min bet to continue: {game_state.min_bet_to_continue}\\n\")\n",
    "        file.write(f\"  Pot size: {game_state.pot_size}\\n\")\n",
    "        file.write(\"Other Players:\\n\")\n",
    "        for player in game_state.other_players:\n",
    "            file.write(f\"  Actions: {player.history}\\n\")\n",
    "            file.write(f\"  Spots left of big blind: {player.spots_left_bb}\\n\")\n",
    "            file.write(\"XXXXXXXX\\n\")\n",
    "        file.write(\"--------------------------------------------------\\n\\n\")"
   ]
  },
  {
   "cell_type": "code",
   "execution_count": 6,
   "metadata": {},
   "outputs": [
    {
     "data": {
      "text/plain": [
       "[(<Action.FOLD: 0>, None)]"
      ]
     },
     "execution_count": 6,
     "metadata": {},
     "output_type": "execute_result"
    }
   ],
   "source": [
    "game_states[4].other_players[0].history"
   ]
  },
  {
   "cell_type": "code",
   "execution_count": 7,
   "metadata": {},
   "outputs": [
    {
     "data": {
      "text/plain": [
       "[(<Action.RAISE: 2>, 1050)]"
      ]
     },
     "execution_count": 7,
     "metadata": {},
     "output_type": "execute_result"
    }
   ],
   "source": [
    "game_states[0].other_players[0].history"
   ]
  }
 ],
 "metadata": {
  "kernelspec": {
   "display_name": "base",
   "language": "python",
   "name": "python3"
  },
  "language_info": {
   "codemirror_mode": {
    "name": "ipython",
    "version": 3
   },
   "file_extension": ".py",
   "mimetype": "text/x-python",
   "name": "python",
   "nbconvert_exporter": "python",
   "pygments_lexer": "ipython3",
   "version": "3.12.2"
  }
 },
 "nbformat": 4,
 "nbformat_minor": 2
}
