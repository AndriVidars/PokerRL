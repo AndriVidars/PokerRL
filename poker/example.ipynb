{
 "cells": [
  {
   "cell_type": "code",
   "execution_count": 1,
   "metadata": {},
   "outputs": [],
   "source": [
    "import os\n",
    "import sys\n",
    "from typing import List, Dict, Tuple, Optional, Any\n",
    "\n",
    "# Add project root to path if needed\n",
    "sys.path.append(os.path.dirname(os.path.abspath(os.getcwd())))\n",
    "\n",
    "from poker.parsers.game_state_retriever import GameStateRetriever\n",
    "from poker.core.gamestage import Stage\n",
    "from poker.core.action import Action\n",
    "\n",
    "\n"
   ]
  },
  {
   "cell_type": "code",
   "execution_count": null,
   "metadata": {},
   "outputs": [
    {
     "name": "stdout",
     "output_type": "stream",
     "text": [
      "Initializing retriever and parsing logs...\n",
      "Found 92 log files\n",
      "Parsing file 1/92: pluribus_87.txt...\n",
      "Parsing file 2/92: pluribus_93.txt...\n",
      "Parsing file 3/92: pluribus_78.txt...\n",
      "Parsing file 4/92: pluribus_44.txt...\n",
      "Parsing file 5/92: pluribus_50.txt...\n",
      "Parsing file 6/92: pluribus_51.txt...\n",
      "Parsing file 7/92: pluribus_45.txt...\n",
      "Parsing file 8/92: pluribus_92.txt...\n",
      "Parsing file 9/92: pluribus_86.txt...\n",
      "Parsing file 10/92: pluribus_76b.txt...\n",
      "Parsing file 11/92: pluribus_40b.txt...\n",
      "Parsing file 12/92: pluribus_90.txt...\n",
      "Parsing file 13/92: pluribus_84.txt...\n",
      "Parsing file 14/92: pluribus_53.txt...\n",
      "Parsing file 15/92: pluribus_52.txt...\n",
      "Parsing file 16/92: pluribus_85.txt...\n",
      "Parsing file 17/92: pluribus_91.txt...\n",
      "Parsing file 18/92: pluribus_95b.txt...\n",
      "Parsing file 19/92: pluribus_94b.txt...\n",
      "Parsing file 20/92: pluribus_95.txt...\n",
      "Parsing file 21/92: pluribus_42.txt...\n",
      "Parsing file 22/92: pluribus_111b.txt...\n",
      "Parsing file 23/92: pluribus_43.txt...\n",
      "Parsing file 24/92: pluribus_94.txt...\n",
      "Parsing file 25/92: pluribus_41b.txt...\n",
      "Parsing file 26/92: pluribus_77b.txt...\n",
      "Parsing file 27/92: pluribus_96.txt...\n",
      "Parsing file 28/92: pluribus_41.txt...\n",
      "Parsing file 29/92: pluribus_40.txt...\n",
      "Parsing file 30/92: pluribus_97.txt...\n",
      "Parsing file 31/92: pluribus_83.txt...\n",
      "Parsing file 32/92: pluribus_100b.txt...\n",
      "Parsing file 33/92: pluribus_50b.txt...\n",
      "Parsing file 34/92: pluribus_100.txt...\n",
      "Parsing file 35/92: pluribus_114.txt...\n",
      "Parsing file 36/92: pluribus_33.txt...\n",
      "Parsing file 37/92: pluribus_32.txt...\n",
      "Parsing file 38/92: pluribus_115.txt...\n",
      "Parsing file 39/92: pluribus_101.txt...\n",
      "Parsing file 40/92: pluribus_117.txt...\n",
      "Parsing file 41/92: pluribus_103.txt...\n",
      "Parsing file 42/92: pluribus_30.txt...\n",
      "Parsing file 43/92: pluribus_31.txt...\n",
      "Parsing file 44/92: pluribus_102.txt...\n",
      "Parsing file 45/92: pluribus_116.txt...\n",
      "Parsing file 46/92: pluribus_112.txt...\n",
      "Parsing file 47/92: pluribus_106.txt...\n",
      "Parsing file 48/92: pluribus_35.txt...\n",
      "Parsing file 49/92: pluribus_34.txt...\n",
      "Parsing file 50/92: pluribus_107.txt...\n",
      "Parsing file 51/92: pluribus_113.txt...\n",
      "Parsing file 52/92: pluribus_105.txt...\n",
      "Parsing file 53/92: pluribus_111.txt...\n",
      "Parsing file 54/92: pluribus_110.txt...\n",
      "Parsing file 55/92: pluribus_104.txt...\n",
      "Parsing file 56/92: pluribus_51b.txt...\n",
      "Parsing file 57/92: pluribus_101b.txt...\n",
      "Parsing file 58/92: pluribus_109.txt...\n",
      "Parsing file 59/92: pluribus_114b.txt...\n",
      "Parsing file 60/92: pluribus_108.txt...\n",
      "Parsing file 61/92: pluribus_44b.txt...\n",
      "Parsing file 62/92: pluribus_52b.txt...\n",
      "Parsing file 63/92: pluribus_102b.txt...\n",
      "Parsing file 64/92: pluribus_103b.txt...\n",
      "Parsing file 65/92: pluribus_53b.txt...\n",
      "Parsing file 66/92: pluribus_45b.txt...\n",
      "Parsing file 67/92: pluribus_118.txt...\n",
      "Parsing file 68/92: pluribus_65.txt...\n",
      "Parsing file 69/92: pluribus_71.txt...\n",
      "Parsing file 70/92: pluribus_70.txt...\n",
      "Parsing file 71/92: pluribus_64.txt...\n",
      "Parsing file 72/92: pluribus_97b.txt...\n",
      "Parsing file 73/92: pluribus_99.txt...\n",
      "Parsing file 74/92: pluribus_72.txt...\n",
      "Parsing file 75/92: pluribus_112b.txt...\n",
      "Parsing file 76/92: pluribus_73.txt...\n",
      "Parsing file 77/92: pluribus_98.txt...\n",
      "Parsing file 78/92: pluribus_42b.txt...\n",
      "Parsing file 79/92: pluribus_43b.txt...\n",
      "Parsing file 80/92: pluribus_88.txt...\n",
      "Parsing file 81/92: pluribus_77.txt...\n",
      "Parsing file 82/92: pluribus_113b.txt...\n",
      "Parsing file 83/92: pluribus_63.txt...\n",
      "Parsing file 84/92: pluribus_62.txt...\n",
      "Parsing file 85/92: pluribus_76.txt...\n",
      "Parsing file 86/92: pluribus_89.txt...\n",
      "Parsing file 87/92: pluribus_96b.txt...\n",
      "Parsing file 88/92: pluribus_60.txt...\n",
      "Parsing file 89/92: pluribus_74.txt...\n",
      "Parsing file 90/92: pluribus_75.txt...\n",
      "Parsing file 91/92: pluribus_61.txt...\n",
      "Parsing file 92/92: pluribus_75b.txt...\n",
      "\n",
      "Parsing completed in 4.29 seconds\n",
      "Successfully parsed 92/92 files\n",
      "Total hands: 10000\n",
      "Hands with Pluribus: 10000\n",
      "\n",
      "Analyzing hand histories...\n",
      "\n",
      "Found 14 unique players: Bill, Budd, Eddie, Gogo, Hattori, Joe, MrBlonde, MrBlue, MrBrown, MrOrange, MrPink, MrWhite, ORen, Pluribus\n",
      "\n",
      "Actions by stage:\n",
      "- flop: 14077 actions\n",
      "- preflop: 61700 actions\n",
      "- river: 6385 actions\n",
      "- turn: 9194 actions\n",
      "\n",
      "Actions by player:\n",
      "- Pluribus: 15169 actions\n",
      "- MrBlue: 15015 actions\n",
      "- MrOrange: 10765 actions\n",
      "- Bill: 10348 actions\n",
      "- MrPink: 9134 actions\n",
      "- Eddie: 8582 actions\n",
      "- MrWhite: 6799 actions\n",
      "- Budd: 3653 actions\n",
      "- MrBlonde: 3555 actions\n",
      "- Joe: 2203 actions\n",
      "- Hattori: 2090 actions\n",
      "- MrBrown: 2079 actions\n",
      "- ORen: 1158 actions\n",
      "- Gogo: 806 actions\n",
      "\n",
      "Actions by type:\n",
      "- FOLD: 48271\n",
      "- CHECK_CALL: 24613\n",
      "- RAISE: 18472\n",
      "\n",
      "Extracting Pluribus decisions...\n",
      "Extracted 15169 Pluribus decisions\n",
      "\n",
      "Extracted 15169 Pluribus decisions\n",
      "\n",
      "Decisions by action:\n",
      "- FOLD: 8007\n",
      "- CHECK: 4035\n",
      "- CALL: 3127\n",
      "\n",
      "Decisions by stage:\n",
      "- PREFLOP: 10299\n",
      "- FLOP: 2317\n",
      "- TURN: 1513\n",
      "- RIVER: 1040\n",
      "\n",
      "Extracting all player decisions...\n"
     ]
    }
   ],
   "source": [
    "log_dir = os.path.join(os.path.dirname(os.path.abspath(os.getcwd())), \"pluribus_converted_logs\")\n",
    "retriever = GameStateRetriever(log_dir)\n",
    "    \n",
    "print(\"Initializing retriever and parsing logs...\")\n",
    "retriever.initialize(verbose=True)\n",
    "    "
   ]
  },
  {
   "cell_type": "code",
   "execution_count": 8,
   "metadata": {},
   "outputs": [
    {
     "name": "stdout",
     "output_type": "stream",
     "text": [
      "Parsed 10000 hands from the logs\n"
     ]
    }
   ],
   "source": [
    "hand_count = retriever.get_hand_count()\n",
    "print(f\"Parsed {hand_count} hands from the logs\")\n",
    "\n",
    "    "
   ]
  },
  {
   "cell_type": "code",
   "execution_count": 9,
   "metadata": {},
   "outputs": [
    {
     "name": "stdout",
     "output_type": "stream",
     "text": [
      "\n",
      "Getting all game states for Pluribus...\n",
      "Found 15169 game states for Pluribus\n"
     ]
    }
   ],
   "source": [
    "player_name = \"Pluribus\"  # You can change this to any player in the dataset\n",
    "print(f\"\\nGetting all game states for {player_name}...\")\n",
    "game_states = retriever.get_player_game_states(player_name)\n",
    "print(f\"Found {len(game_states)} game states for {player_name}\")"
   ]
  },
  {
   "cell_type": "code",
   "execution_count": 13,
   "metadata": {},
   "outputs": [
    {
     "name": "stdout",
     "output_type": "stream",
     "text": [
      "Help on GameState in module poker.agents.game_state object:\n",
      "\n",
      "class GameState(builtins.object)\n",
      " |  GameState(stage: poker.core.gamestage.Stage, community_cards: List[poker.core.card.Card], pot_size: int, min_bet_to_continue: int, my_player: poker.agents.game_state.Player, other_players: List[poker.agents.game_state.Player], my_player_action: Optional[Tuple[poker.core.action.Action, int]], core_game=None)\n",
      " |\n",
      " |  Represents a game state where \"my_player\" is about to take an action.\n",
      " |\n",
      " |  Methods defined here:\n",
      " |\n",
      " |  __init__(self, stage: poker.core.gamestage.Stage, community_cards: List[poker.core.card.Card], pot_size: int, min_bet_to_continue: int, my_player: poker.agents.game_state.Player, other_players: List[poker.agents.game_state.Player], my_player_action: Optional[Tuple[poker.core.action.Action, int]], core_game=None)\n",
      " |      Initialize self.  See help(type(self)) for accurate signature.\n",
      " |\n",
      " |  get_effective_turns(self)\n",
      " |\n",
      " |  ----------------------------------------------------------------------\n",
      " |  Static methods defined here:\n",
      " |\n",
      " |  compute_hand_strength(cards: List[poker.core.card.Card])\n",
      " |\n",
      " |  ----------------------------------------------------------------------\n",
      " |  Readonly properties defined here:\n",
      " |\n",
      " |  community_hand_strength\n",
      " |      Returns the hand strength of the community hand with respect to all possible hands.\n",
      " |\n",
      " |  hand_strength\n",
      " |      Returns the hand strength of the hand with respect to all possible hands.\n",
      " |\n",
      " |  ----------------------------------------------------------------------\n",
      " |  Data descriptors defined here:\n",
      " |\n",
      " |  __dict__\n",
      " |      dictionary for instance variables\n",
      " |\n",
      " |  __weakref__\n",
      " |      list of weak references to the object\n",
      "\n"
     ]
    }
   ],
   "source": [
    "help(game_states[0])"
   ]
  },
  {
   "cell_type": "code",
   "execution_count": null,
   "metadata": {},
   "outputs": [
    {
     "data": {
      "text/plain": [
       "<Stage.FLOP: 1>"
      ]
     },
     "execution_count": 23,
     "metadata": {},
     "output_type": "execute_result"
    }
   ],
   "source": []
  },
  {
   "cell_type": "code",
   "execution_count": 17,
   "metadata": {},
   "outputs": [
    {
     "data": {
      "text/plain": [
       "[(<Action.CHECK_CALL: 1>, 175), (<Action.CHECK_CALL: 1>, None)]"
      ]
     },
     "execution_count": 17,
     "metadata": {},
     "output_type": "execute_result"
    }
   ],
   "source": [
    "game_states[1].other_players[0].history"
   ]
  },
  {
   "cell_type": "code",
   "execution_count": 16,
   "metadata": {},
   "outputs": [
    {
     "data": {
      "text/plain": [
       "[(<Action.RAISE: 2>, 1050)]"
      ]
     },
     "execution_count": 16,
     "metadata": {},
     "output_type": "execute_result"
    }
   ],
   "source": [
    "game_states[0].other_players[0].history"
   ]
  }
 ],
 "metadata": {
  "kernelspec": {
   "display_name": "base",
   "language": "python",
   "name": "python3"
  },
  "language_info": {
   "codemirror_mode": {
    "name": "ipython",
    "version": 3
   },
   "file_extension": ".py",
   "mimetype": "text/x-python",
   "name": "python",
   "nbconvert_exporter": "python",
   "pygments_lexer": "ipython3",
   "version": "3.12.2"
  }
 },
 "nbformat": 4,
 "nbformat_minor": 2
}
