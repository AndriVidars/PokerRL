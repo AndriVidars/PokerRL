{
 "cells": [
  {
   "cell_type": "code",
   "execution_count": null,
   "id": "b653f34c-a720-40fe-b7ec-457277260424",
   "metadata": {},
   "outputs": [],
   "source": [
    "import os\n",
    "import sys\n",
    "sys.path.append(os.path.dirname(os.path.abspath(os.getcwd())))\n",
    "from poker.agents.game_state import GameState, Player\n",
    "from poker.agents.game_state import *\n",
    "from poker.core.card import *\n",
    "from poker.core.card import Rank\n",
    "from agents.deep_learning_agent import PokerPlayerNetV1\n",
    "\n",
    "\n",
    "import os\n",
    "import sys\n",
    "from typing import List, Dict, Tuple, Optional, Any\n",
    "from poker.agents.game_state import GameStateBuilder\n",
    "from poker.agents.game_state import GameStateRetriever\n",
    "from poker.core.gamestage import Stage\n",
    "from poker.core.action import Action\n",
    "\n",
    "import random\n",
    "import numpy as np\n",
    "import torch\n",
    "import itertools"
   ]
  },
  {
   "cell_type": "code",
   "execution_count": 2,
   "id": "53ef58f3-276d-4524-bb4a-eb9f6c595918",
   "metadata": {},
   "outputs": [],
   "source": [
    "def set_seed(seed: int):\n",
    "    random.seed(seed)\n",
    "    np.random.seed(seed)\n",
    "    torch.manual_seed(seed)\n",
    "    if torch.cuda.is_available():\n",
    "        torch.cuda.manual_seed(seed)\n",
    "        torch.cuda.manual_seed_all(seed)"
   ]
  },
  {
   "cell_type": "code",
   "execution_count": 3,
   "id": "ff7f84a5-025c-4f82-8a36-bcdbbfe624a0",
   "metadata": {},
   "outputs": [],
   "source": [
    "set_seed(42)"
   ]
  },
  {
   "cell_type": "code",
   "execution_count": 4,
   "id": "6f6f845c-0dee-4f3f-b0d7-a40bc61488ec",
   "metadata": {},
   "outputs": [],
   "source": [
    "my_agent = PokerPlayerNetV1(use_batchnorm=False)"
   ]
  },
  {
   "cell_type": "markdown",
   "id": "5da886e1-893e-439c-9148-1bb5135b7dcf",
   "metadata": {},
   "source": [
    "## Loading"
   ]
  },
  {
   "cell_type": "code",
   "execution_count": 5,
   "id": "e6135254-2b3f-4ad5-a60b-0905b67e3ab8",
   "metadata": {},
   "outputs": [
    {
     "data": {
      "text/plain": [
       "<All keys matched successfully>"
      ]
     },
     "execution_count": 5,
     "metadata": {},
     "output_type": "execute_result"
    }
   ],
   "source": [
    "my_agent.load_state_dict(torch.load(\"a9e8c8.14060308.st\"))"
   ]
  },
  {
   "cell_type": "code",
   "execution_count": 6,
   "id": "f1c25c42-7ea9-4dcb-8eed-1710b96e72ba",
   "metadata": {},
   "outputs": [],
   "source": [
    "my_agent.aggressiveness_call = 1.0 # CUSTOM AGRESSIVENESS, default is 1.0\n",
    "my_agent.aggressiveness_raise = 1.5"
   ]
  },
  {
   "cell_type": "code",
   "execution_count": null,
   "id": "09006148-24d9-4135-9eb8-e0957fed79e8",
   "metadata": {},
   "outputs": [],
   "source": []
  },
  {
   "cell_type": "markdown",
   "id": "635d7749-8b78-433b-9377-bb52c1d5380b",
   "metadata": {},
   "source": [
    "## Testing"
   ]
  },
  {
   "cell_type": "code",
   "execution_count": null,
   "id": "e35eab5c-8851-41be-bc70-9057352c4c5f",
   "metadata": {},
   "outputs": [],
   "source": [
    "from poker.agents.game_state import GameState, Player\n",
    "from poker.agents.game_state import *\n",
    "from poker.core.card import *\n",
    "from poker.core.card import Rank"
   ]
  },
  {
   "cell_type": "code",
   "execution_count": 8,
   "id": "8031d7d6-8be7-4928-9870-e87278c82850",
   "metadata": {},
   "outputs": [],
   "source": [
    "p1 = Player(1, (Card(Rank.ACE, Suit.SPADE), Card(Rank.ACE, Suit.CLUB)), 100)\n",
    "p2 = Player(0, None, 80)\n",
    "p3 = Player(2, None, 90)"
   ]
  },
  {
   "cell_type": "code",
   "execution_count": 9,
   "id": "8c38baa8-d3f4-45e3-a806-a951f776a7fd",
   "metadata": {},
   "outputs": [],
   "source": [
    "game_state = GameState(\n",
    "    stage = Stage.PREFLOP,\n",
    "    community_cards = [],\n",
    "    pot_size = 3,\n",
    "    min_bet_to_continue = 0,\n",
    "    my_player = p1,\n",
    "    other_players = [p2, p3],\n",
    "    my_player_action = (Action.RAISE, 10),\n",
    ")"
   ]
  },
  {
   "cell_type": "code",
   "execution_count": 10,
   "id": "d8acfb2b-bb68-48f9-af69-6751f45b3d9b",
   "metadata": {},
   "outputs": [
    {
     "data": {
      "text/plain": [
       "(tensor([0.0366, 0.0245, 0.9389]), tensor(1.5549))"
      ]
     },
     "execution_count": 10,
     "metadata": {},
     "output_type": "execute_result"
    }
   ],
   "source": [
    "my_agent.eval_game_state(game_state)"
   ]
  },
  {
   "cell_type": "code",
   "execution_count": null,
   "id": "e044c47b-f109-421f-bb81-550e8cd66180",
   "metadata": {},
   "outputs": [],
   "source": []
  },
  {
   "cell_type": "code",
   "execution_count": 11,
   "id": "e37f8569-9dd0-4417-aca5-2821ec28c2c2",
   "metadata": {},
   "outputs": [],
   "source": [
    "p1 = Player(1, (Card(Rank.TWO, Suit.SPADE), Card(Rank.SEVEN, Suit.CLUB)), 100)\n",
    "p2 = Player(0, None, 80)\n",
    "p3 = Player(2, None, 90)"
   ]
  },
  {
   "cell_type": "code",
   "execution_count": 12,
   "id": "3b215fa6-d974-4869-b223-b057d702ff74",
   "metadata": {},
   "outputs": [],
   "source": [
    "game_state = GameState(\n",
    "    stage = Stage.PREFLOP,\n",
    "    community_cards = [],\n",
    "    pot_size = 3,\n",
    "    min_bet_to_continue = 0,\n",
    "    my_player = p1,\n",
    "    other_players = [p2, p3],\n",
    "    my_player_action = (Action.RAISE, 10),\n",
    ")"
   ]
  },
  {
   "cell_type": "code",
   "execution_count": 13,
   "id": "bc38ddbf-6286-482e-83fc-71194503194b",
   "metadata": {},
   "outputs": [
    {
     "data": {
      "text/plain": [
       "(tensor([0.9202, 0.0159, 0.0639]), tensor(1.5455))"
      ]
     },
     "execution_count": 13,
     "metadata": {},
     "output_type": "execute_result"
    }
   ],
   "source": [
    "my_agent.eval_game_state(game_state)"
   ]
  },
  {
   "cell_type": "code",
   "execution_count": null,
   "id": "87f26f36-4ea8-4ffc-a04c-8257183e0ad1",
   "metadata": {},
   "outputs": [],
   "source": []
  },
  {
   "cell_type": "code",
   "execution_count": 14,
   "id": "4b33a002-9868-4798-8899-d7c184eae62a",
   "metadata": {},
   "outputs": [],
   "source": [
    "p1 = Player(1, (Card(Rank.ACE, Suit.SPADE), Card(Rank.KING, Suit.CLUB)), 100)\n",
    "p2 = Player(0, None, 80)\n",
    "p3 = Player(2, None, 90)"
   ]
  },
  {
   "cell_type": "code",
   "execution_count": 15,
   "id": "256704ca-dbfa-475d-a1f3-e412d39e91bd",
   "metadata": {},
   "outputs": [],
   "source": [
    "game_state = GameState(\n",
    "    stage = Stage.PREFLOP,\n",
    "    community_cards = [],\n",
    "    pot_size = 3,\n",
    "    min_bet_to_continue = 0,\n",
    "    my_player = p1,\n",
    "    other_players = [p2, p3],\n",
    "    my_player_action = (Action.RAISE, 10),\n",
    ")"
   ]
  },
  {
   "cell_type": "code",
   "execution_count": 16,
   "id": "131a7799-c654-4e11-b5c3-f9ff6acbe11f",
   "metadata": {},
   "outputs": [
    {
     "data": {
      "text/plain": [
       "(tensor([0.4754, 0.0380, 0.4866]), tensor(1.5360))"
      ]
     },
     "execution_count": 16,
     "metadata": {},
     "output_type": "execute_result"
    }
   ],
   "source": [
    "my_agent.eval_game_state(game_state)"
   ]
  },
  {
   "cell_type": "code",
   "execution_count": null,
   "id": "31511e2f-3b14-4883-9ee9-c2923528b346",
   "metadata": {},
   "outputs": [],
   "source": []
  }
 ],
 "metadata": {
  "kernelspec": {
   "display_name": "Python 3 (ipykernel)",
   "language": "python",
   "name": "python3"
  },
  "language_info": {
   "codemirror_mode": {
    "name": "ipython",
    "version": 3
   },
   "file_extension": ".py",
   "mimetype": "text/x-python",
   "name": "python",
   "nbconvert_exporter": "python",
   "pygments_lexer": "ipython3",
   "version": "3.11.7"
  }
 },
 "nbformat": 4,
 "nbformat_minor": 5
}
