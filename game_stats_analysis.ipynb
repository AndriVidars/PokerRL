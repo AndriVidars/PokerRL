{
 "cells": [
  {
   "cell_type": "code",
   "execution_count": 27,
   "metadata": {},
   "outputs": [],
   "source": [
    "import numpy as np\n",
    "import pickle\n",
    "from collections import Counter"
   ]
  },
  {
   "cell_type": "code",
   "execution_count": null,
   "metadata": {},
   "outputs": [],
   "source": [
    "file = 'stats_2_random_2_deep_1000_.pkl'\n",
    "\n",
    "with open(file, 'rb') as f:\n",
    "    winner_stats, elim_stats = pickle.load(f)"
   ]
  },
  {
   "cell_type": "code",
   "execution_count": 29,
   "metadata": {},
   "outputs": [
    {
     "name": "stdout",
     "output_type": "stream",
     "text": [
      "Total Games: 100\n",
      "Win Rate By Player Type\n",
      "PlayerRandom: 0.4500\n",
      "PlayerDeepAgent: 0.5500\n"
     ]
    }
   ],
   "source": [
    "n_games = len(winner_stats)\n",
    "\n",
    "win_player_type = [x[0] for x in winner_stats]\n",
    "win_rates = Counter(win_player_type)\n",
    "\n",
    "print(f\"Total Games: {n_games}\")\n",
    "print(f\"Win Rate By Player Type\")\n",
    "for k, v in win_rates.items():\n",
    "    print(f\"{k}: {v/n_games:.4f}\")\n"
   ]
  },
  {
   "cell_type": "code",
   "execution_count": 30,
   "metadata": {},
   "outputs": [],
   "source": [
    "q = [0.25, 0.5, 0.75, 0.99]\n",
    "player_types = set([x[0] for x in elim_stats])\n",
    "player_type_emim_stats = {x:[[], []] for x in player_types}\n",
    "\n",
    "for x in elim_stats:\n",
    "    player_type_emim_stats[x[0]][0].append(x[1])\n",
    "    player_type_emim_stats[x[0]][1].append(x[2])\n"
   ]
  },
  {
   "cell_type": "code",
   "execution_count": 31,
   "metadata": {},
   "outputs": [
    {
     "name": "stdout",
     "output_type": "stream",
     "text": [
      "Player Type: PlayerDeepAgent\n",
      "Elim Round Quantiles [  6.    12.    27.   205.52]\n",
      "Relative Elim Round Quantiles [0.26666667 0.86363636 1.         1.        ]\n",
      "\n",
      "Player Type: PlayerRandom\n",
      "Elim Round Quantiles [ 5.    9.   19.   82.22]\n",
      "Relative Elim Round Quantiles [0.10271624 0.3125     0.89204545 1.        ]\n",
      "\n"
     ]
    }
   ],
   "source": [
    "for k, v in player_type_emim_stats.items():\n",
    "    print(f\"Player Type: {k}\")\n",
    "    print(f\"Elim Round Quantiles {np.quantile(v[0], q)}\")\n",
    "    print(f\"Relative Elim Round Quantiles {np.quantile(v[1], q)}\\n\")\n"
   ]
  }
 ],
 "metadata": {
  "kernelspec": {
   "display_name": "base",
   "language": "python",
   "name": "python3"
  },
  "language_info": {
   "codemirror_mode": {
    "name": "ipython",
    "version": 3
   },
   "file_extension": ".py",
   "mimetype": "text/x-python",
   "name": "python",
   "nbconvert_exporter": "python",
   "pygments_lexer": "ipython3",
   "version": "3.11.5"
  }
 },
 "nbformat": 4,
 "nbformat_minor": 2
}
