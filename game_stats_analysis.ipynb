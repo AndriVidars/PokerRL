{
 "cells": [
  {
   "cell_type": "code",
   "execution_count": 14,
   "metadata": {},
   "outputs": [],
   "source": [
    "import numpy as np\n",
    "import pickle\n",
    "from collections import Counter"
   ]
  },
  {
   "cell_type": "code",
   "execution_count": 15,
   "metadata": {},
   "outputs": [],
   "source": [
    "def run_analysis(game_stats_file):\n",
    "    with open(game_stats_file, 'rb') as f:\n",
    "        winner_stats, elim_stats = pickle.load(f)\n",
    "    \n",
    "    n_games = len(winner_stats)\n",
    "    win_player_type = [x[0] for x in winner_stats]\n",
    "    win_rates = Counter(win_player_type)\n",
    "    \n",
    "    print(f\"Total Games: {n_games}\")\n",
    "    print(f\"Win Rate By Player Type\")\n",
    "    for k, v in win_rates.items():\n",
    "        print(f\"{k}: {v/n_games:.4f}\")\n",
    "    \n",
    "    q = [0.25, 0.5, 0.75, 0.99]\n",
    "    player_types = set([x[0] for x in elim_stats])\n",
    "    player_type_emim_stats = {x:[[], []] for x in player_types}\n",
    "\n",
    "    for x in elim_stats:\n",
    "        player_type_emim_stats[x[0]][0].append(x[1])\n",
    "        player_type_emim_stats[x[0]][1].append(x[2])\n",
    "    \n",
    "    print(f\"\\nQuantiles: {q}\\n\")\n",
    "    for k, v in player_type_emim_stats.items():\n",
    "        print(f\"Player Type: {k}\")\n",
    "        print(f\"Elim Round Quantiles {np.quantile(v[0], q)}\")\n",
    "        print(f\"Relative Elim Round Quantiles {np.quantile(v[1], q)}\\n\")"
   ]
  },
  {
   "cell_type": "code",
   "execution_count": 16,
   "metadata": {},
   "outputs": [
    {
     "name": "stdout",
     "output_type": "stream",
     "text": [
      "Total Games: 1000\n",
      "Win Rate By Player Type\n",
      "PlayerDeepAgent_Primary: 0.8680\n",
      "PlayerHeuristic: 0.1320\n",
      "\n",
      "Quantiles: [0.25, 0.5, 0.75, 0.99]\n",
      "\n",
      "Player Type: PlayerDeepAgent_Primary\n",
      "Elim Round Quantiles [ 32.    60.   116.25 541.21]\n",
      "Relative Elim Round Quantiles [0.0775788  0.17277933 0.4805064  1.        ]\n",
      "\n",
      "Player Type: PlayerHeuristic\n",
      "Elim Round Quantiles [  99.    181.    327.25 1397.63]\n",
      "Relative Elim Round Quantiles [0.36978022 0.81631944 1.         1.        ]\n",
      "\n"
     ]
    }
   ],
   "source": [
    "run_analysis('pkl/stats_e55f94.12150310.stH2_D2_1000.pkl') # pre trained imitation using state dict e55"
   ]
  },
  {
   "cell_type": "code",
   "execution_count": 17,
   "metadata": {},
   "outputs": [
    {
     "name": "stdout",
     "output_type": "stream",
     "text": [
      "Total Games: 1000\n",
      "Win Rate By Player Type\n",
      "PlayerDeepAgent_Primary: 0.6220\n",
      "PlayerRandom: 0.3780\n",
      "\n",
      "Quantiles: [0.25, 0.5, 0.75, 0.99]\n",
      "\n",
      "Player Type: PlayerDeepAgent_Primary\n",
      "Elim Round Quantiles [  7.    16.    37.   301.06]\n",
      "Relative Elim Round Quantiles [0.36013986 1.         1.         1.        ]\n",
      "\n",
      "Player Type: PlayerRandom\n",
      "Elim Round Quantiles [ 4.  8. 17. 63.]\n",
      "Relative Elim Round Quantiles [0.08602484 0.23529412 0.73181818 1.        ]\n",
      "\n"
     ]
    }
   ],
   "source": [
    "run_analysis('pkl/stats_e55f94.12150310.stR2_D2_1000.pkl')"
   ]
  }
 ],
 "metadata": {
  "kernelspec": {
   "display_name": "base",
   "language": "python",
   "name": "python3"
  },
  "language_info": {
   "codemirror_mode": {
    "name": "ipython",
    "version": 3
   },
   "file_extension": ".py",
   "mimetype": "text/x-python",
   "name": "python",
   "nbconvert_exporter": "python",
   "pygments_lexer": "ipython3",
   "version": "3.11.5"
  }
 },
 "nbformat": 4,
 "nbformat_minor": 2
}
