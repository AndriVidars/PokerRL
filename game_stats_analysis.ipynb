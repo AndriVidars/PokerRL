{
 "cells": [
  {
   "cell_type": "code",
   "execution_count": 9,
   "metadata": {},
   "outputs": [],
   "source": [
    "import numpy as np\n",
    "import pickle\n",
    "from collections import Counter"
   ]
  },
  {
   "cell_type": "code",
   "execution_count": 10,
   "metadata": {},
   "outputs": [],
   "source": [
    "def run_analysis(game_stats_file):\n",
    "    with open(game_stats_file, 'rb') as f:\n",
    "        winner_stats, elim_stats = pickle.load(f)\n",
    "    \n",
    "    n_games = len(winner_stats)\n",
    "    win_player_type = [x[0] for x in winner_stats]\n",
    "    win_rates = Counter(win_player_type)\n",
    "    \n",
    "    print(f\"Total Games: {n_games}\")\n",
    "    print(f\"Win Rate By Player Type\")\n",
    "    for k, v in win_rates.items():\n",
    "        print(f\"{k}: {v/n_games:.4f}\")\n",
    "    \n",
    "    q = [0.25, 0.5, 0.75, 0.99]\n",
    "    player_types = set([x[0] for x in elim_stats])\n",
    "    player_type_emim_stats = {x:[[], []] for x in player_types}\n",
    "\n",
    "    for x in elim_stats:\n",
    "        player_type_emim_stats[x[0]][0].append(x[1])\n",
    "        player_type_emim_stats[x[0]][1].append(x[2])\n",
    "    \n",
    "    print(f\"\\nQuantiles: {q}\\n\")\n",
    "    for k, v in player_type_emim_stats.items():\n",
    "        print(f\"Player Type: {k}\")\n",
    "        print(f\"Elim Round Quantiles {np.quantile(v[0], q)}\")\n",
    "        print(f\"Relative Elim Round Quantiles {np.quantile(v[1], q)}\\n\")"
   ]
  },
  {
   "cell_type": "code",
   "execution_count": 11,
   "metadata": {},
   "outputs": [
    {
     "name": "stdout",
     "output_type": "stream",
     "text": [
      "Total Games: 1000\n",
      "Win Rate By Player Type\n",
      "PlayerHeuristic: 0.2920\n",
      "PlayerDeepAgent_Primary: 0.7080\n",
      "\n",
      "Quantiles: [0.25, 0.5, 0.75, 0.99]\n",
      "\n",
      "Player Type: PlayerDeepAgent_Primary\n",
      "Elim Round Quantiles [ 27.    54.5  116.   409.09]\n",
      "Relative Elim Round Quantiles [0.07972362 0.20116182 0.6249094  1.        ]\n",
      "\n",
      "Player Type: PlayerHeuristic\n",
      "Elim Round Quantiles [  88.    162.    251.   1692.55]\n",
      "Relative Elim Round Quantiles [0.44195119 0.84816754 1.         1.        ]\n",
      "\n"
     ]
    }
   ],
   "source": [
    "run_analysis('pkl/old/stats_H2_D2_1000.pkl') # pre trained imitation using state dict e55"
   ]
  },
  {
   "cell_type": "code",
   "execution_count": 14,
   "metadata": {},
   "outputs": [
    {
     "name": "stdout",
     "output_type": "stream",
     "text": [
      "Total Games: 1000\n",
      "Win Rate By Player Type\n",
      "PlayerDeepAgent_Primary: 0.7800\n",
      "PlayerHeuristic: 0.2200\n",
      "\n",
      "Quantiles: [0.25, 0.5, 0.75, 0.99]\n",
      "\n",
      "Player Type: PlayerDeepAgent_Primary\n",
      "Elim Round Quantiles [  4.   8.  16. 183.]\n",
      "Relative Elim Round Quantiles [0.0222794  0.05699952 0.1393141  1.        ]\n",
      "\n",
      "Player Type: PlayerHeuristic\n",
      "Elim Round Quantiles [  47.75   75.5   116.   2234.97]\n",
      "Relative Elim Round Quantiles [0.56598796 1.         1.         1.        ]\n",
      "\n"
     ]
    }
   ],
   "source": [
    "run_analysis('pkl/stats_lr_1e-05_batch_size_16_max_grad_norm_1.0_num_games_3000_replay_buffer_cap_1000_H2_D2_1000_86.stH2_D2_1000.pkl') # post trained REINFORCE "
   ]
  },
  {
   "cell_type": "code",
   "execution_count": 13,
   "metadata": {},
   "outputs": [
    {
     "name": "stdout",
     "output_type": "stream",
     "text": [
      "Total Games: 1000\n",
      "Win Rate By Player Type\n",
      "PlayerDeepAgent_Primary: 0.6310\n",
      "PlayerRandom: 0.3690\n",
      "\n",
      "Quantiles: [0.25, 0.5, 0.75, 0.99]\n",
      "\n",
      "Player Type: PlayerRandom\n",
      "Elim Round Quantiles [ 4.   9.  18.  83.5]\n",
      "Relative Elim Round Quantiles [0.09160839 0.26470588 0.80625    1.        ]\n",
      "\n",
      "Player Type: PlayerDeepAgent_Primary\n",
      "Elim Round Quantiles [  6.   15.   34.  209.6]\n",
      "Relative Elim Round Quantiles [0.30909091 1.         1.         1.        ]\n",
      "\n"
     ]
    }
   ],
   "source": [
    "run_analysis('pkl/old/stats_R2_D2_1000.pkl') # pre trained imitation using state dict e55"
   ]
  },
  {
   "cell_type": "code",
   "execution_count": 15,
   "metadata": {},
   "outputs": [
    {
     "name": "stdout",
     "output_type": "stream",
     "text": [
      "Total Games: 1000\n",
      "Win Rate By Player Type\n",
      "PlayerDeepAgent_Primary: 0.7710\n",
      "PlayerRandom: 0.2290\n",
      "\n",
      "Quantiles: [0.25, 0.5, 0.75, 0.99]\n",
      "\n",
      "Player Type: PlayerRandom\n",
      "Elim Round Quantiles [ 2.   5.   9.  22.3]\n",
      "Relative Elim Round Quantiles [0.42105263 1.         1.         1.        ]\n",
      "\n",
      "Player Type: PlayerDeepAgent_Primary\n",
      "Elim Round Quantiles [1. 1. 1. 8.]\n",
      "Relative Elim Round Quantiles [0.09090909 0.16666667 0.33333333 1.        ]\n",
      "\n"
     ]
    }
   ],
   "source": [
    "run_analysis('pkl/stats_lr_5e-05_batch_size_16_max_grad_norm_0.05_num_games_3000_replay_buffer_cap_5000_R2_D2_3000_80.stR2_D2_1000.pkl') # post trained REINFORCE "
   ]
  }
 ],
 "metadata": {
  "kernelspec": {
   "display_name": "base",
   "language": "python",
   "name": "python3"
  },
  "language_info": {
   "codemirror_mode": {
    "name": "ipython",
    "version": 3
   },
   "file_extension": ".py",
   "mimetype": "text/x-python",
   "name": "python",
   "nbconvert_exporter": "python",
   "pygments_lexer": "ipython3",
   "version": "3.11.5"
  }
 },
 "nbformat": 4,
 "nbformat_minor": 2
}
