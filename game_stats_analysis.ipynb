{
 "cells": [
  {
   "cell_type": "code",
   "execution_count": 2,
   "metadata": {},
   "outputs": [],
   "source": [
    "import numpy as np\n",
    "import pickle\n",
    "from collections import Counter"
   ]
  },
  {
   "cell_type": "code",
   "execution_count": 3,
   "metadata": {},
   "outputs": [],
   "source": [
    "def run_analysis(game_stats_file):\n",
    "    with open(game_stats_file, 'rb') as f:\n",
    "        winner_stats, elim_stats = pickle.load(f)\n",
    "    \n",
    "    n_games = len(winner_stats)\n",
    "    win_player_type = [x[0] for x in winner_stats]\n",
    "    win_rates = Counter(win_player_type)\n",
    "    \n",
    "    print(f\"Total Games: {n_games}\")\n",
    "    print(f\"Win Rate By Player Type\")\n",
    "    for k, v in win_rates.items():\n",
    "        print(f\"{k}: {v/n_games:.4f}\")\n",
    "    \n",
    "    q = [0.25, 0.5, 0.75, 0.99]\n",
    "    player_types = set([x[0] for x in elim_stats])\n",
    "    player_type_emim_stats = {x:[[], []] for x in player_types}\n",
    "\n",
    "    for x in elim_stats:\n",
    "        player_type_emim_stats[x[0]][0].append(x[1])\n",
    "        player_type_emim_stats[x[0]][1].append(x[2])\n",
    "    \n",
    "    print(f\"\\nQuantiles: {q}\\n\")\n",
    "    for k, v in player_type_emim_stats.items():\n",
    "        print(f\"Player Type: {k}\")\n",
    "        print(f\"Elim Round Quantiles {np.quantile(v[0], q)}\")\n",
    "        print(f\"Relative Elim Round Quantiles {np.quantile(v[1], q)}\\n\")"
   ]
  },
  {
   "cell_type": "code",
   "execution_count": 4,
   "metadata": {},
   "outputs": [
    {
     "name": "stdout",
     "output_type": "stream",
     "text": [
      "Total Games: 1000\n",
      "Win Rate By Player Type\n",
      "PlayerHeuristic: 0.6460\n",
      "PlayerRandom: 0.3540\n",
      "\n",
      "Quantiles: [0.25, 0.5, 0.75, 0.99]\n",
      "\n",
      "Player Type: PlayerHeuristic\n",
      "Elim Round Quantiles [  17.     40.    130.75 3456.5 ]\n",
      "Relative Elim Round Quantiles [0.32154353 0.97103742 1.         1.        ]\n",
      "\n",
      "Player Type: PlayerRandom\n",
      "Elim Round Quantiles [  7.    15.    58.   305.55]\n",
      "Relative Elim Round Quantiles [0.02702703 0.10217029 0.5328125  1.        ]\n",
      "\n"
     ]
    }
   ],
   "source": [
    "run_analysis('pkl/stats_H2_R2_1000.pkl') # pre trained imitation using state dict e55"
   ]
  },
  {
   "cell_type": "code",
   "execution_count": 5,
   "metadata": {},
   "outputs": [
    {
     "name": "stdout",
     "output_type": "stream",
     "text": [
      "Total Games: 1000\n",
      "Win Rate By Player Type\n",
      "PlayerDeepAgent_Primary: 0.8680\n",
      "PlayerHeuristic: 0.1320\n",
      "\n",
      "Quantiles: [0.25, 0.5, 0.75, 0.99]\n",
      "\n",
      "Player Type: PlayerHeuristic\n",
      "Elim Round Quantiles [  99.    181.    327.25 1397.63]\n",
      "Relative Elim Round Quantiles [0.36978022 0.81631944 1.         1.        ]\n",
      "\n",
      "Player Type: PlayerDeepAgent_Primary\n",
      "Elim Round Quantiles [ 32.    60.   116.25 541.21]\n",
      "Relative Elim Round Quantiles [0.0775788  0.17277933 0.4805064  1.        ]\n",
      "\n"
     ]
    }
   ],
   "source": [
    "# I vs H\n",
    "run_analysis('pkl/stats_e55f94.12150310.stH2_D2_1000.pkl') # pre trained imitation using state dict e55"
   ]
  },
  {
   "cell_type": "code",
   "execution_count": 6,
   "metadata": {},
   "outputs": [
    {
     "name": "stdout",
     "output_type": "stream",
     "text": [
      "Total Games: 1000\n",
      "Win Rate By Player Type\n",
      "PlayerDeepAgent_Primary: 0.6220\n",
      "PlayerRandom: 0.3780\n",
      "\n",
      "Quantiles: [0.25, 0.5, 0.75, 0.99]\n",
      "\n",
      "Player Type: PlayerDeepAgent_Primary\n",
      "Elim Round Quantiles [  7.    16.    37.   301.06]\n",
      "Relative Elim Round Quantiles [0.36013986 1.         1.         1.        ]\n",
      "\n",
      "Player Type: PlayerRandom\n",
      "Elim Round Quantiles [ 4.  8. 17. 63.]\n",
      "Relative Elim Round Quantiles [0.08602484 0.23529412 0.73181818 1.        ]\n",
      "\n"
     ]
    }
   ],
   "source": [
    "# I vs R\n",
    "run_analysis('pkl/stats_e55f94.12150310.stR2_D2_1000.pkl')"
   ]
  },
  {
   "cell_type": "code",
   "execution_count": 7,
   "metadata": {},
   "outputs": [
    {
     "name": "stdout",
     "output_type": "stream",
     "text": [
      "Total Games: 1000\n",
      "Win Rate By Player Type\n",
      "PlayerDeepAgent: 0.3710\n",
      "PlayerDeepAgent_Primary: 0.6290\n",
      "\n",
      "Quantiles: [0.25, 0.5, 0.75, 0.99]\n",
      "\n",
      "Player Type: PlayerDeepAgent\n",
      "Elim Round Quantiles [ 12.    21.    37.   272.88]\n",
      "Relative Elim Round Quantiles [0.46666667 0.95238095 1.         1.        ]\n",
      "\n",
      "Player Type: PlayerDeepAgent_Primary\n",
      "Elim Round Quantiles [  4.    8.   15.  112.3]\n",
      "Relative Elim Round Quantiles [0.08333333 0.20689655 0.56797235 1.        ]\n",
      "\n"
     ]
    }
   ],
   "source": [
    "# eval against imitation(frozen)\n",
    "\n",
    "# R1 vs I\n",
    "run_analysis('pkl/stats_e55f94.12150310.stlr_1e-05_batch_size_16_max_grad_norm_0.25_num_games_4000_replay_buffer_cap_1000_D2_DF2_3000_69.stD2_DV2_1000.pkl')"
   ]
  },
  {
   "cell_type": "code",
   "execution_count": 8,
   "metadata": {},
   "outputs": [
    {
     "name": "stdout",
     "output_type": "stream",
     "text": [
      "Total Games: 1000\n",
      "Win Rate By Player Type\n",
      "PlayerDeepAgent_Primary: 0.8660\n",
      "PlayerHeuristic: 0.1340\n",
      "\n",
      "Quantiles: [0.25, 0.5, 0.75, 0.99]\n",
      "\n",
      "Player Type: PlayerHeuristic\n",
      "Elim Round Quantiles [  43.     67.    105.75 1591.85]\n",
      "Relative Elim Round Quantiles [0.56962719 1.         1.         1.        ]\n",
      "\n",
      "Player Type: PlayerDeepAgent_Primary\n",
      "Elim Round Quantiles [  5.     9.    16.   170.67]\n",
      "Relative Elim Round Quantiles [0.03703704 0.08256881 0.16376715 1.        ]\n",
      "\n"
     ]
    }
   ],
   "source": [
    "# R1 vs H\n",
    "run_analysis('pkl/stats_lr_1e-05_batch_size_16_max_grad_norm_0.25_num_games_4000_replay_buffer_cap_1000_D2_DF2_3000_69.stH2_D2_1000.pkl')"
   ]
  },
  {
   "cell_type": "code",
   "execution_count": null,
   "metadata": {},
   "outputs": [
    {
     "name": "stdout",
     "output_type": "stream",
     "text": [
      "Total Games: 1000\n",
      "Win Rate By Player Type\n",
      "R2__PlayerDeepAgent: 0.5320\n",
      "R1_PlayerDeepAgent: 0.4680\n",
      "\n",
      "Quantiles: [0.25, 0.5, 0.75, 0.99]\n",
      "\n",
      "Player Type: R1_PlayerDeepAgent\n",
      "Elim Round Quantiles [ 2.  5. 10. 38.]\n",
      "Relative Elim Round Quantiles [0.16666667 0.5        1.         1.        ]\n",
      "\n",
      "Player Type: R2__PlayerDeepAgent\n",
      "Elim Round Quantiles [ 2.    4.    9.   54.66]\n",
      "Relative Elim Round Quantiles [0.18607955 0.5        1.         1.        ]\n",
      "\n"
     ]
    }
   ],
   "source": [
    "run_analysis(\"pkl/stats_R1_2_R2__2_1000.pkl\") # R2 trained in 1 vs 3 against R1"
   ]
  },
  {
   "cell_type": "code",
   "execution_count": null,
   "metadata": {},
   "outputs": [],
   "source": [
    "run_analysis(\"pkl/stats_R1_2_R2_2_1000.pkl\") # R2 trained in 2 vs 2 against R1\n"
   ]
  }
 ],
 "metadata": {
  "kernelspec": {
   "display_name": "base",
   "language": "python",
   "name": "python3"
  },
  "language_info": {
   "codemirror_mode": {
    "name": "ipython",
    "version": 3
   },
   "file_extension": ".py",
   "mimetype": "text/x-python",
   "name": "python",
   "nbconvert_exporter": "python",
   "pygments_lexer": "ipython3",
   "version": "3.11.5"
  }
 },
 "nbformat": 4,
 "nbformat_minor": 2
}
