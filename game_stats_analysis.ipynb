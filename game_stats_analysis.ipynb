{
 "cells": [
  {
   "cell_type": "code",
   "execution_count": 18,
   "metadata": {},
   "outputs": [],
   "source": [
    "import numpy as np\n",
    "import pickle\n",
    "from collections import Counter"
   ]
  },
  {
   "cell_type": "code",
   "execution_count": 19,
   "metadata": {},
   "outputs": [],
   "source": [
    "def run_analysis(game_stats_file):\n",
    "    with open(game_stats_file, 'rb') as f:\n",
    "        winner_stats, elim_stats = pickle.load(f)\n",
    "    \n",
    "    n_games = len(winner_stats)\n",
    "    win_player_type = [x[0] for x in winner_stats]\n",
    "    win_rates = Counter(win_player_type)\n",
    "    \n",
    "    print(f\"Total Games: {n_games}\")\n",
    "    print(f\"Win Rate By Player Type\")\n",
    "    for k, v in win_rates.items():\n",
    "        print(f\"{k}: {v/n_games:.4f}\")\n",
    "    \n",
    "    q = [0.25, 0.5, 0.75, 0.99]\n",
    "    player_types = set([x[0] for x in elim_stats])\n",
    "    player_type_emim_stats = {x:[[], []] for x in player_types}\n",
    "\n",
    "    for x in elim_stats:\n",
    "        player_type_emim_stats[x[0]][0].append(x[1])\n",
    "        player_type_emim_stats[x[0]][1].append(x[2])\n",
    "    \n",
    "    print(f\"\\nQuantiles: {q}\\n\")\n",
    "    for k, v in player_type_emim_stats.items():\n",
    "        print(f\"Player Type: {k}\")\n",
    "        print(f\"Elim Round Quantiles {np.quantile(v[0], q)}\")\n",
    "        print(f\"Relative Elim Round Quantiles {np.quantile(v[1], q)}\\n\")"
   ]
  },
  {
   "cell_type": "code",
   "execution_count": 20,
   "metadata": {},
   "outputs": [
    {
     "name": "stdout",
     "output_type": "stream",
     "text": [
      "Total Games: 100\n",
      "Win Rate By Player Type\n",
      "PlayerHeuristic: 0.5400\n",
      "PlayerDeepAgent_Primary: 0.4600\n",
      "\n",
      "Quantiles: [0.25, 0.5, 0.75, 0.99]\n",
      "\n",
      "Player Type: PlayerDeepAgent_Primary\n",
      "Elim Round Quantiles [ 47.   113.   210.5  445.51]\n",
      "Relative Elim Round Quantiles [0.12321209 0.33895344 0.9916318  1.        ]\n",
      "\n",
      "Player Type: PlayerHeuristic\n",
      "Elim Round Quantiles [ 113.75  229.    302.75 1413.7 ]\n",
      "Relative Elim Round Quantiles [0.5026824  0.77540797 1.         1.        ]\n",
      "\n"
     ]
    }
   ],
   "source": [
    "run_analysis('pkl/stats_H2_D2_100.pkl')"
   ]
  },
  {
   "cell_type": "code",
   "execution_count": 21,
   "metadata": {},
   "outputs": [
    {
     "name": "stdout",
     "output_type": "stream",
     "text": [
      "Total Games: 100\n",
      "Win Rate By Player Type\n",
      "PlayerDeepAgent_Primary: 0.6300\n",
      "PlayerRandom: 0.3700\n",
      "\n",
      "Quantiles: [0.25, 0.5, 0.75, 0.99]\n",
      "\n",
      "Player Type: PlayerRandom\n",
      "Elim Round Quantiles [  5.    11.    31.   151.74]\n",
      "Relative Elim Round Quantiles [0.0695658  0.23287671 0.81216931 1.        ]\n",
      "\n",
      "Player Type: PlayerDeepAgent_Primary\n",
      "Elim Round Quantiles [  8.    21.    51.   224.28]\n",
      "Relative Elim Round Quantiles [0.22 0.8  1.   1.  ]\n",
      "\n"
     ]
    }
   ],
   "source": [
    "run_analysis('pkl/stats_R2_D2_100.pkl')"
   ]
  }
 ],
 "metadata": {
  "kernelspec": {
   "display_name": "base",
   "language": "python",
   "name": "python3"
  },
  "language_info": {
   "codemirror_mode": {
    "name": "ipython",
    "version": 3
   },
   "file_extension": ".py",
   "mimetype": "text/x-python",
   "name": "python",
   "nbconvert_exporter": "python",
   "pygments_lexer": "ipython3",
   "version": "3.11.5"
  }
 },
 "nbformat": 4,
 "nbformat_minor": 2
}
