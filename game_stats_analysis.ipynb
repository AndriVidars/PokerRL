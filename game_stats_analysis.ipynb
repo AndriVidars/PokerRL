{
 "cells": [
  {
   "cell_type": "code",
   "execution_count": 81,
   "metadata": {},
   "outputs": [],
   "source": [
    "import numpy as np\n",
    "import pickle\n",
    "from collections import Counter"
   ]
  },
  {
   "cell_type": "code",
   "execution_count": 82,
   "metadata": {},
   "outputs": [],
   "source": [
    "def run_analysis(game_stats_file):\n",
    "    with open(game_stats_file, 'rb') as f:\n",
    "        winner_stats, elim_stats = pickle.load(f)\n",
    "    \n",
    "    n_games = len(winner_stats)\n",
    "    win_player_type = [x[0] for x in winner_stats]\n",
    "    win_rates = Counter(win_player_type)\n",
    "    \n",
    "    print(f\"Total Games: {n_games}\")\n",
    "    print(f\"Win Rate By Player Type\")\n",
    "    for k, v in win_rates.items():\n",
    "        print(f\"{k}: {v/n_games:.4f}\")\n",
    "    \n",
    "    q = [0.25, 0.5, 0.75, 0.99]\n",
    "    player_types = set([x[0] for x in elim_stats])\n",
    "    player_type_emim_stats = {x:[[], []] for x in player_types}\n",
    "\n",
    "    for x in elim_stats:\n",
    "        player_type_emim_stats[x[0]][0].append(x[1])\n",
    "        player_type_emim_stats[x[0]][1].append(x[2])\n",
    "    \n",
    "    print(f\"\\nQuantiles: {q}\\n\")\n",
    "    for k, v in player_type_emim_stats.items():\n",
    "        print(f\"Player Type: {k}\")\n",
    "        print(f\"Elim Round Quantiles {np.quantile(v[0], q)}\")\n",
    "        print(f\"Relative Elim Round Quantiles {np.quantile(v[1], q)}\\n\")"
   ]
  },
  {
   "cell_type": "code",
   "execution_count": 83,
   "metadata": {},
   "outputs": [
    {
     "name": "stdout",
     "output_type": "stream",
     "text": [
      "Total Games: 1000\n",
      "Win Rate By Player Type\n",
      "PlayerDeepAgent: 0.8870\n",
      "PlayerHeuristic: 0.1130\n",
      "\n",
      "Quantiles: [0.25, 0.5, 0.75, 0.99]\n",
      "\n",
      "Player Type: PlayerDeepAgent\n",
      "Elim Round Quantiles [ 41.    73.   135.   621.96]\n",
      "Relative Elim Round Quantiles [0.07840772 0.17704011 0.44537815 1.        ]\n",
      "\n",
      "Player Type: PlayerHeuristic\n",
      "Elim Round Quantiles [ 112.    224.    413.5  1677.26]\n",
      "Relative Elim Round Quantiles [0.34222711 0.80794702 1.         1.        ]\n",
      "\n"
     ]
    }
   ],
   "source": [
    "run_analysis('stats_PlayerHeuristic_2_PlayerDeepAgent_2_1000.pkl')"
   ]
  },
  {
   "cell_type": "code",
   "execution_count": 84,
   "metadata": {},
   "outputs": [
    {
     "name": "stdout",
     "output_type": "stream",
     "text": [
      "Total Games: 1000\n",
      "Win Rate By Player Type\n",
      "PlayerDeepAgent: 0.6590\n",
      "PlayerRandom: 0.3410\n",
      "\n",
      "Quantiles: [0.25, 0.5, 0.75, 0.99]\n",
      "\n",
      "Player Type: PlayerDeepAgent\n",
      "Elim Round Quantiles [  6.   14.   32.  215.6]\n",
      "Relative Elim Round Quantiles [0.3015873  0.88235294 1.         1.        ]\n",
      "\n",
      "Player Type: PlayerRandom\n",
      "Elim Round Quantiles [ 4.  8. 19. 88.]\n",
      "Relative Elim Round Quantiles [0.09259259 0.26760563 1.         1.        ]\n",
      "\n"
     ]
    }
   ],
   "source": [
    "run_analysis('stats_PlayerDeepAgent_2_PlayerRandom_2_1000.pkl')"
   ]
  },
  {
   "cell_type": "code",
   "execution_count": 85,
   "metadata": {},
   "outputs": [
    {
     "name": "stdout",
     "output_type": "stream",
     "text": [
      "Total Games: 1000\n",
      "Win Rate By Player Type\n",
      "PlayerRandom: 0.3930\n",
      "PlayerHeuristic: 0.6070\n",
      "\n",
      "Quantiles: [0.25, 0.5, 0.75, 0.99]\n",
      "\n",
      "Player Type: PlayerHeuristic\n",
      "Elim Round Quantiles [  17.    40.   120.  3243.2]\n",
      "Relative Elim Round Quantiles [0.35820896 0.99382716 1.         1.        ]\n",
      "\n",
      "Player Type: PlayerRandom\n",
      "Elim Round Quantiles [  7.    16.    58.5  333.94]\n",
      "Relative Elim Round Quantiles [0.02966943 0.10743802 0.58823529 1.        ]\n",
      "\n"
     ]
    }
   ],
   "source": [
    "run_analysis('stats_PlayerHeuristic_2_PlayerRandom_2_1000.pkl')"
   ]
  }
 ],
 "metadata": {
  "kernelspec": {
   "display_name": "base",
   "language": "python",
   "name": "python3"
  },
  "language_info": {
   "codemirror_mode": {
    "name": "ipython",
    "version": 3
   },
   "file_extension": ".py",
   "mimetype": "text/x-python",
   "name": "python",
   "nbconvert_exporter": "python",
   "pygments_lexer": "ipython3",
   "version": "3.11.5"
  }
 },
 "nbformat": 4,
 "nbformat_minor": 2
}
